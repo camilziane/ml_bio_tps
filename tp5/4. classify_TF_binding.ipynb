{
 "cells": [
  {
   "cell_type": "markdown",
   "metadata": {
    "id": "BpI9eESpkREM"
   },
   "source": [
    "# Ex1: Onehot coding DNA\n",
    "\n",
    "Write a function called **onehot_dna(dna_str)** that allows to encode a DNA segment where each base is encoded as a vector of all zeros except one in a specific position. The result of this function is an array numpy.  DNA is a long chain of repeating bases strung together. There are 4 bases: A, C, G, T. For example, \"AACCCAAATCGGGGG\" is a DNA segment.\n",
    "\n",
    "\n",
    "\n",
    "For example, **onehot_dna('AAT')** should return\n",
    "\n",
    "array([[1, 0, 0, 0],\n",
    "       [1, 0, 0, 0],\n",
    "       [0, 0, 0, 1]])\n",
    "\n",
    "\n",
    "\n",
    "\n"
   ]
  },
  {
   "cell_type": "code",
   "execution_count": 361,
   "metadata": {},
   "outputs": [],
   "source": [
    "import matplotlib.pyplot as plt\n",
    "import torch"
   ]
  },
  {
   "cell_type": "code",
   "execution_count": 362,
   "metadata": {
    "id": "YbhaCZP1moii"
   },
   "outputs": [],
   "source": [
    "import numpy as np\n",
    "\n",
    "def onehot_dna(dna: str) -> np.ndarray:\n",
    "    res =  np.array(list(dna)).reshape(-1, 1) == np.array(['A', 'C', 'G', 'T'])\n",
    "    return res.astype(int)"
   ]
  },
  {
   "cell_type": "code",
   "execution_count": 363,
   "metadata": {
    "colab": {
     "base_uri": "https://localhost:8080/"
    },
    "id": "WM-BaQiGo82A",
    "outputId": "a7357e07-2c79-4d10-be96-aa0d8520b702"
   },
   "outputs": [
    {
     "data": {
      "text/plain": [
       "array([[1, 0, 0, 0],\n",
       "       [1, 0, 0, 0],\n",
       "       [0, 0, 0, 1],\n",
       "       [0, 1, 0, 0]])"
      ]
     },
     "execution_count": 363,
     "metadata": {},
     "output_type": "execute_result"
    }
   ],
   "source": [
    "onehot_dna('AATC')"
   ]
  },
  {
   "cell_type": "markdown",
   "metadata": {
    "id": "AkSQo19z60n1"
   },
   "source": [
    "# Deep learning to classify Transcription Factor Biding\n",
    "\n",
    "\n",
    "In the next exercises, we will learn how to use Deep learning to predict whether a segment of DNA does include or does not include a sit where JUND binds. (JUND is a particular transcription factor).\n",
    "\n",
    "In this purpose, we will use data that is extracted from the chapter 6 of the book: 'Deep learning for the life science'. This book is written by B.Ramsundar, P.Eastman, P. Walters and V.Pande.\n",
    "\n"
   ]
  },
  {
   "cell_type": "markdown",
   "metadata": {},
   "source": [
    "By looking at the Wikipedia page of the Jund transcription factor, explain what is the use of such protein "
   ]
  },
  {
   "cell_type": "markdown",
   "metadata": {},
   "source": [
    "JunD is a protein that helps protect cells from aging and death by working with the AP1 complex. It also interacts with other proteins and has a variant, ΔJunD, that affects addiction-related brain changes."
   ]
  },
  {
   "cell_type": "markdown",
   "metadata": {},
   "source": [
    "\n",
    "Data consist of DNA segments that have been split up from a full chromosome. Each segment is of 101 bases long and has been labeled to indicate whether it does or does not include a site where JUND binds to.\n",
    "\n",
    "\n",
    "This is a binary classification problem.\n",
    "The process of creating a PyTorch neural network binary classifier consists of several steps:\n",
    "\n",
    "1. Prepare the training and test data\n",
    "\n",
    "2. Implement a Dataset object to serve up the data\n",
    "\n",
    "3. Design and implement a neural network\n",
    "\n",
    "4. Write code to train the network\n",
    "\n",
    "5. Write code to evaluate the model (the trained network)\n"
   ]
  },
  {
   "cell_type": "markdown",
   "metadata": {
    "id": "XS8a5oOmOjqO"
   },
   "source": [
    "# Ex 2:  Load Data\n",
    "\n",
    "The data is available here : https://drive.google.com/drive/folders/1-nrTvNvEZo6Px1pnT7IeotKZR7p365UJ?usp=sharing\n",
    "\n",
    "1. With the help of the joblib library, load the following files for training set:  **y_train.joblib**, **X_train.joblib**  and then store the results in variables **y_train, X_train** ,respectively.\n",
    "\n",
    "2. Do the same thing for the test set: load  **y_test.joblib**, **X_test.joblib**  and then store the results in variables **y_test, X_test**, respectively.\n",
    "\n",
    "3. What are the shape of **X_train** and **y_train** ? How many DNA segments are there in traning set ?\n",
    "\n",
    "4. Display a DNA segment from **X_train** (using matplotlib.pyplot.imshow ).\n",
    "\n",
    "5. Plot the histogram of **y_train** to see whether data is imbalanced or not.\n"
   ]
  },
  {
   "cell_type": "code",
   "execution_count": 364,
   "metadata": {
    "id": "NB5Y5StQezcZ"
   },
   "outputs": [],
   "source": [
    "import joblib"
   ]
  },
  {
   "cell_type": "code",
   "execution_count": 365,
   "metadata": {},
   "outputs": [],
   "source": [
    "y_train = joblib.load('tfbind/y_train.joblib')\n",
    "X_train = joblib.load('tfbind/X_train.joblib')\n",
    "y_test = joblib.load('tfbind/y_test.joblib')\n",
    "X_test = joblib.load('tfbind/X_test.joblib')"
   ]
  },
  {
   "cell_type": "code",
   "execution_count": 366,
   "metadata": {
    "id": "FMLs0OOTV4E5"
   },
   "outputs": [],
   "source": [
    "''' Tests X_train, y_train '''\n",
    "assert(X_train.shape == (4672, 101, 4))\n",
    "assert(y_train.shape ==(4672, 1))"
   ]
  },
  {
   "cell_type": "markdown",
   "metadata": {
    "id": "9g9rlIr2AAy6"
   },
   "source": [
    "There are 4672 segment in the training set"
   ]
  },
  {
   "cell_type": "code",
   "execution_count": 367,
   "metadata": {
    "id": "RO7DeSen_W_h"
   },
   "outputs": [],
   "source": [
    "''' Tests X_test, y_test'''\n",
    "assert(X_test.shape == (584, 101, 4))\n",
    "assert(y_test.shape ==(584, 1))\n"
   ]
  },
  {
   "cell_type": "markdown",
   "metadata": {
    "colab": {
     "base_uri": "https://localhost:8080/",
     "height": 101
    },
    "id": "TceRZcS3MENp",
    "outputId": "25a06914-8dbe-425c-f6eb-d0627b622bac"
   },
   "source": [
    "There are 584 segment in the test set"
   ]
  },
  {
   "cell_type": "code",
   "execution_count": 368,
   "metadata": {},
   "outputs": [
    {
     "data": {
      "image/png": "[encoded data removed]",
      "text/plain": [
       "<Figure size 640x480 with 1 Axes>"
      ]
     },
     "metadata": {},
     "output_type": "display_data"
    }
   ],
   "source": [
    "# Display a DNA segment from X_train\n",
    "plt.imshow(X_train[0], cmap='gray')\n",
    "plt.title('DNA Segment from X_train')\n",
    "plt.show()"
   ]
  },
  {
   "cell_type": "code",
   "execution_count": 369,
   "metadata": {},
   "outputs": [
    {
     "data": {
      "image/png": "[encoded data removed]",
      "text/plain": [
       "<Figure size 640x480 with 1 Axes>"
      ]
     },
     "metadata": {},
     "output_type": "display_data"
    }
   ],
   "source": [
    "unique_values, counts = np.unique(y_train, return_counts=True)\n",
    "\n",
    "plt.bar(unique_values, counts)\n",
    "plt.title('Histogram of y_train')\n",
    "plt.xlabel('Classes')\n",
    "plt.xticks(unique_values)\n",
    "plt.ylabel('Frequency')\n",
    "plt.show()"
   ]
  },
  {
   "cell_type": "markdown",
   "metadata": {
    "id": "EajNPJrnAmde"
   },
   "source": [
    "# Ex 3: Convert numpy array to tensor pytorch\n",
    "\n",
    "As you see in the previous exercise, **X_train** consists of 4672 segments. Each segment is encoded by 0 and 1 (one-hot encoding).\n",
    "\n",
    "\n",
    "1. Convert numpy array **X_train**, **y_train** into pytorch tensor. Reshape **X_train** to (4672, 4, 101). Note that the type of **X_train** and **y_train** should be float.\n",
    "\n",
    "2. Do the same thing for **X_test** and **y_test**\n"
   ]
  },
  {
   "cell_type": "code",
   "execution_count": 370,
   "metadata": {},
   "outputs": [],
   "source": [
    "y_train.shape\n",
    "# Balance the dataset to have the same number of class 1 and 0\n",
    "class_0_indices = np.where(y_train == 0)[0]\n",
    "class_1_indices = np.where(y_train == 1)[0]\n",
    "\n",
    "np.random.shuffle(class_0_indices)\n",
    "balanced_class_0_indices = class_0_indices[:len(class_1_indices)]\n",
    "\n",
    "balanced_indices = np.concatenate((balanced_class_0_indices, class_1_indices))\n",
    "\n",
    "np.random.shuffle(balanced_indices)\n",
    "\n",
    "# Create balanced X_train and y_train\n",
    "X_train_balanced = X_train[balanced_indices]\n",
    "y_train_balanced = y_train[balanced_indices]"
   ]
  },
  {
   "cell_type": "code",
   "execution_count": 371,
   "metadata": {
    "id": "E8eedW_yPUKu"
   },
   "outputs": [],
   "source": [
    "X_train_ts = torch.tensor(X_train_balanced, dtype=torch.float32).view(-1, 4, 101)\n",
    "y_train_ts = torch.tensor(y_train_balanced, dtype=torch.float32)"
   ]
  },
  {
   "cell_type": "code",
   "execution_count": 372,
   "metadata": {
    "id": "GrBcHzR-E-yR"
   },
   "outputs": [],
   "source": [
    "# ''' Tests X_train_ts, y_train_ts '''\n",
    "# assert(type(X_train_ts) is torch.Tensor)\n",
    "# assert(type(y_train_ts) is torch.Tensor)\n",
    "# assert(X_train_ts.shape == (4672, 4, 101))\n"
   ]
  },
  {
   "cell_type": "code",
   "execution_count": 373,
   "metadata": {
    "id": "Wn_0dOuVHWhs"
   },
   "outputs": [],
   "source": [
    "X_test_ts = torch.tensor(X_test, dtype=torch.float32).view(-1, 4, 101)\n",
    "y_test_ts = torch.tensor(y_test, dtype=torch.float32)"
   ]
  },
  {
   "cell_type": "code",
   "execution_count": 374,
   "metadata": {
    "id": "o_it3skAH0Yt"
   },
   "outputs": [],
   "source": [
    "''' Tests the above ToDo. '''\n",
    "assert(type(X_test_ts) is torch.Tensor)\n",
    "assert(type(y_test_ts) is torch.Tensor)\n",
    "assert(X_test_ts.shape == (584, 4, 101))\n"
   ]
  },
  {
   "cell_type": "markdown",
   "metadata": {
    "id": "mEYJBjBdg547"
   },
   "source": [
    "# Ex4: Create Dataset\n",
    "In order to train a deep learning model with Pytorch, we need a pytorch dataset.\n",
    "The DNADataset class below allows for creating a pytorch Dataset from DNA segments and their labels.\n",
    "\n",
    "1. Using this class, create a dataset for training set. You should call it **train_dataset**\n",
    "\n",
    "2. Create **Dataloader** from **train_dataset**. You should call it **train_loader**.\n",
    "\n",
    "3. Do the same thing for the test set."
   ]
  },
  {
   "cell_type": "code",
   "execution_count": 375,
   "metadata": {
    "id": "GkvyOQVggLz_"
   },
   "outputs": [],
   "source": [
    "class DNADataset(torch.utils.data.Dataset):\n",
    "    def __init__(self, dna, labels):\n",
    "        self.labels = labels\n",
    "        self.dna = dna\n",
    "\n",
    "\n",
    "    def __len__(self):\n",
    "        return len(self.labels)\n",
    "\n",
    "\n",
    "    def __getitem__(self, idx):\n",
    "        label = self.labels[idx]\n",
    "        frag_dna = self.dna[idx]\n",
    "\n",
    "        sample = {'DNA': frag_dna, 'Class': label}\n",
    "\n",
    "        return sample"
   ]
  },
  {
   "cell_type": "code",
   "execution_count": 376,
   "metadata": {},
   "outputs": [],
   "source": [
    "train_dataset = DNADataset(X_train_ts, y_train_ts)\n",
    "train_loader = torch.utils.data.DataLoader(train_dataset, batch_size=16, shuffle=True)\n",
    "\n",
    "test_dataset = DNADataset(X_test_ts, y_test_ts)\n",
    "test_loader = torch.utils.data.DataLoader(test_dataset, batch_size=16, shuffle=True)"
   ]
  },
  {
   "cell_type": "markdown",
   "metadata": {
    "id": "O_d7J-rFbiig"
   },
   "source": [
    "**train_loader** is a generator. To get data out of it, you need to loop through it or convert it to an iterator and call next()"
   ]
  },
  {
   "cell_type": "code",
   "execution_count": 377,
   "metadata": {
    "colab": {
     "base_uri": "https://localhost:8080/"
    },
    "id": "PJQK0ZaLMpKF",
    "outputId": "76fb9583-e609-4e26-e954-1c88af29b5bf"
   },
   "outputs": [
    {
     "name": "stdout",
     "output_type": "stream",
     "text": [
      "a batch data  torch.Size([16, 4, 101])\n",
      "Shape of label torch.Size([16, 1])\n"
     ]
    }
   ],
   "source": [
    "# Run this to test your data loader\n",
    "data = next(iter(train_loader))\n",
    "dna = data['DNA']\n",
    "label = data['Class']\n",
    "print(\"a batch data \", dna.shape)\n",
    "print(\"Shape of label\", label.shape)"
   ]
  },
  {
   "cell_type": "markdown",
   "metadata": {
    "id": "VDcbP17Rb2xt"
   },
   "source": [
    "# Design and implement a convolutional neural network\n",
    "\n",
    "Now, it's time to build your model. This is a binary classification problem. We can use a convolution neural network, just like an image classification problem. However, since the size of a DNA segment is (4, 101), we will use 1D convolution instead of 2D convolution.\n",
    "\n",
    "\n",
    "\n",
    "Firstly, we will test how does a 1D convolution work on our data.\n",
    "\n"
   ]
  },
  {
   "cell_type": "markdown",
   "metadata": {
    "id": "xlPP4E3UfRYe"
   },
   "source": [
    "# EX 5: 1D Convolution\n",
    "\n",
    "1. With the help of the torch.nn.Conv1d class, create a 1D convolutional layer. You need to choose values for the following parameters: **in_channels**, **out_channels**, **kernel_size**.\n",
    "\n",
    "\n",
    "2. Apply this layer to **dna_seg** below. What is the size of the output ?\n",
    "\n",
    "\n",
    "3. [Optional] Display the output by using matplotlib.pyplot.imshow\n",
    "\n",
    "\n"
   ]
  },
  {
   "cell_type": "code",
   "execution_count": 378,
   "metadata": {
    "id": "C9y0yRXhhj1F"
   },
   "outputs": [],
   "source": [
    "data = next(iter(train_loader))\n",
    "dna_seg = data['DNA']\n",
    "y = data['Class']"
   ]
  },
  {
   "cell_type": "code",
   "execution_count": 379,
   "metadata": {
    "colab": {
     "base_uri": "https://localhost:8080/"
    },
    "id": "FJ9uE489imxl",
    "outputId": "b57cbf60-51b3-4746-e815-f58e24772b90"
   },
   "outputs": [
    {
     "data": {
      "text/plain": [
       "torch.Size([16, 16, 101])"
      ]
     },
     "execution_count": 379,
     "metadata": {},
     "output_type": "execute_result"
    }
   ],
   "source": [
    "conv = torch.nn.Conv1d(4, 16, 3, padding=1)\n",
    "conv(dna_seg).shape"
   ]
  },
  {
   "cell_type": "code",
   "execution_count": 380,
   "metadata": {},
   "outputs": [
    {
     "data": {
      "text/plain": [
       "<matplotlib.image.AxesImage at 0x129a8db10>"
      ]
     },
     "execution_count": 380,
     "metadata": {},
     "output_type": "execute_result"
    },
    {
     "data": {
      "image/png": "[encoded data removed]",
      "text/plain": [
       "<Figure size 640x480 with 1 Axes>"
      ]
     },
     "metadata": {},
     "output_type": "display_data"
    }
   ],
   "source": [
    "plt.imshow(conv(dna_seg)[0].detach().numpy(), cmap='gray')"
   ]
  },
  {
   "cell_type": "markdown",
   "metadata": {
    "id": "H26rAy0wkbca"
   },
   "source": [
    "# EX 6: Build a model\n",
    "\n",
    "Create a 3 layer 1-dimensional network to classify the TF binding sites"
   ]
  },
  {
   "cell_type": "code",
   "execution_count": 381,
   "metadata": {
    "id": "L_bs8O3lhB7m"
   },
   "outputs": [],
   "source": [
    "import torch.nn as nn\n",
    "import torch.nn.functional as F\n",
    "\n",
    "\n",
    "class DeepDNA(nn.Module):\n",
    "    def __init__(self, dim):\n",
    "        super(DeepDNA, self).__init__()\n",
    "        self.dim = dim\n",
    "        self.conv1 = nn.Conv1d(4, 16, 3, padding=1)\n",
    "        self.pool = nn.MaxPool1d(2, 2)\n",
    "        self.conv2 = nn.Conv1d(16, 32, 3, padding=1)\n",
    "        self.pool = nn.MaxPool1d(2, 2)\n",
    "        self.conv3 = nn.Conv1d(32, 64, 3, padding=1)\n",
    "        self.pool = nn.MaxPool1d(2, 2)\n",
    "        self.fc1 = nn.Linear(64 * (self.dim//8), 1)\n",
    "\n",
    "    def forward(self, x):\n",
    "        x = self.pool(F.relu(self.conv1(x)))\n",
    "        x = self.pool(F.relu(self.conv2(x)))\n",
    "        x = self.pool(F.relu(self.conv3(x)))\n",
    "        x = x.view(x.shape[0], -1)\n",
    "        x = nn.Sigmoid()(self.fc1(x))\n",
    "        return x"
   ]
  },
  {
   "cell_type": "markdown",
   "metadata": {
    "id": "HVbFqM4laclu"
   },
   "source": [
    "# Ex 7 Test the model\n",
    "\n",
    "\n",
    "1. Create an instance of the DeepDNA class named **net**.\n",
    "\n",
    "2. Print out the variable **net** to see detailed information about the model.\n",
    "\n",
    "3. Pass **dna_seg** below to **net** in order to  test if your model **net** works well.\n",
    "\n",
    "4. What is the size of the output ?\n",
    "\n"
   ]
  },
  {
   "cell_type": "code",
   "execution_count": 382,
   "metadata": {
    "colab": {
     "base_uri": "https://localhost:8080/"
    },
    "id": "ladQCir7btvX",
    "outputId": "557662ec-4e25-47aa-dd92-ee56348aeab0"
   },
   "outputs": [
    {
     "name": "stdout",
     "output_type": "stream",
     "text": [
      "the output of the model  tensor([[0.4756],\n",
      "        [0.4756],\n",
      "        [0.4725],\n",
      "        [0.4735],\n",
      "        [0.4758]], grad_fn=<SliceBackward0>)\n"
     ]
    }
   ],
   "source": [
    "#data = next(iter(train_loader))\n",
    "dna_seg = data['DNA']\n",
    "\n",
    "##### TO DO #######\n",
    "\n",
    "net = DeepDNA(101)\n",
    "out = net(dna_seg)\n",
    "\n",
    "print(\"the output of the model \", out[:5])"
   ]
  },
  {
   "cell_type": "code",
   "execution_count": 383,
   "metadata": {},
   "outputs": [
    {
     "data": {
      "text/plain": [
       "torch.Size([16, 4, 101])"
      ]
     },
     "execution_count": 383,
     "metadata": {},
     "output_type": "execute_result"
    }
   ],
   "source": [
    "dna_seg.shape"
   ]
  },
  {
   "cell_type": "code",
   "execution_count": 384,
   "metadata": {
    "colab": {
     "base_uri": "https://localhost:8080/"
    },
    "id": "RFzp7DbtlTwG",
    "outputId": "24e73025-a469-4042-b77f-d3d19ba0e2ec"
   },
   "outputs": [
    {
     "name": "stdout",
     "output_type": "stream",
     "text": [
      "DeepDNA(\n",
      "  (conv1): Conv1d(4, 16, kernel_size=(3,), stride=(1,), padding=(1,))\n",
      "  (pool): MaxPool1d(kernel_size=2, stride=2, padding=0, dilation=1, ceil_mode=False)\n",
      "  (conv2): Conv1d(16, 32, kernel_size=(3,), stride=(1,), padding=(1,))\n",
      "  (conv3): Conv1d(32, 64, kernel_size=(3,), stride=(1,), padding=(1,))\n",
      "  (fc1): Linear(in_features=768, out_features=1, bias=True)\n",
      ")\n"
     ]
    }
   ],
   "source": [
    "print(net)"
   ]
  },
  {
   "cell_type": "markdown",
   "metadata": {
    "id": "yypmG11hr_so"
   },
   "source": [
    "# Ex 8: Define loss function and optimizer\n",
    "\n",
    "\n",
    "1. Define an SGD optimizer for the model. You need to choose the learning rate for your model.\n",
    "\n",
    "2. Define a Binary Cross Entropy (BCE) Loss  function.\n"
   ]
  },
  {
   "cell_type": "code",
   "execution_count": 385,
   "metadata": {
    "id": "uZwQKSrxh1A_"
   },
   "outputs": [],
   "source": [
    "criterion = nn.BCELoss()\n",
    "optimizer = torch.optim.SGD(net.parameters(), lr = 1e-3)"
   ]
  },
  {
   "cell_type": "markdown",
   "metadata": {
    "id": "7rEjVjhetI6A"
   },
   "source": [
    "# Ex 9: Training your model\n",
    "\n",
    "The following function allows to train the model for one epoch. This function returns total loss per epoch.\n",
    "Implement the training pass for this function.\n",
    "\n",
    "\n",
    "\n",
    "The general process with PyTorch for one learning step consits of several steps:\n",
    "\n",
    "1. Make a forward pass through the network\n",
    "2. Use the network output to calculate the loss\n",
    "3. Perform a backward pass through the network with loss.backward() to calculate the gradients\n",
    "4. Take a step with the optimizer to update the weights\n",
    "\n"
   ]
  },
  {
   "cell_type": "code",
   "execution_count": 386,
   "metadata": {
    "id": "oAil9eU9iNCf"
   },
   "outputs": [],
   "source": [
    "def train(net, train_loader, criterion, optimizer, device):\n",
    "    net.train()\n",
    "    running_loss = 0.0\n",
    "    num_batches = len(train_loader)\n",
    "    \n",
    "    for batch_data in train_loader:\n",
    "        inputs = batch_data['DNA'].to(device)\n",
    "        labels = batch_data['Class'].to(device)\n",
    "        \n",
    "        optimizer.zero_grad()\n",
    "        \n",
    "        outputs = net(inputs)\n",
    "        loss = criterion(outputs, labels)\n",
    "        \n",
    "        loss.backward()\n",
    "        optimizer.step()\n",
    "        \n",
    "        running_loss += loss.item()\n",
    "    \n",
    "    epoch_loss = running_loss / num_batches\n",
    "    return epoch_loss"
   ]
  },
  {
   "cell_type": "code",
   "execution_count": 387,
   "metadata": {},
   "outputs": [
    {
     "name": "stdout",
     "output_type": "stream",
     "text": [
      "Epoch 0 Loss 0.6942429534376484\n",
      "Epoch 1 Loss 0.6937868864568946\n",
      "Epoch 2 Loss 0.6935497648911934\n",
      "Epoch 3 Loss 0.6934084761632632\n",
      "Epoch 4 Loss 0.6933462595286435\n",
      "Epoch 5 Loss 0.6933365721408635\n",
      "Epoch 6 Loss 0.6932992763715248\n",
      "Epoch 7 Loss 0.6932818118023546\n",
      "Epoch 8 Loss 0.6932683272721016\n",
      "Epoch 9 Loss 0.6932571681394969\n"
     ]
    }
   ],
   "source": [
    "for epoch in range(10):\n",
    "    loss_epoch = train(net, train_loader, criterion, optimizer, 'cpu')\n",
    "    print(f'Epoch {epoch} Loss {loss_epoch}')"
   ]
  },
  {
   "cell_type": "markdown",
   "metadata": {
    "id": "Pz0VV2Oenftq"
   },
   "source": [
    "# Ex 11: Accuracy Calculation\n",
    "\n",
    "Write a function named **compute_num_correct_pred(y_prob, y_label)** that allows to compute the number of correct predictions. **y_prob** and **y_label** should be pytorch tensors.\n",
    "\n",
    "For example,\n",
    "y_prob = [[0.3],[0.4], [0.8], [0.7]].\n",
    "\n",
    "y = [[0], [1], [1], [0]].\n",
    "\n",
    "This function should return 2."
   ]
  },
  {
   "cell_type": "code",
   "execution_count": 388,
   "metadata": {
    "id": "JZ3cRawWpFe7"
   },
   "outputs": [],
   "source": [
    "### TODO ####\n",
    "def compute_num_correct_pred(y_prob, y_label):\n",
    "    y_prob = y_prob.detach().numpy()\n",
    "    y_label = y_label.detach().numpy()\n",
    "    y_prob = y_prob > 0.5\n",
    "    y_prob = y_prob.astype(int)\n",
    "    res: np.ndarray = y_prob == y_label\n",
    "    res = res.astype(int)\n",
    "    return sum(res)"
   ]
  },
  {
   "cell_type": "code",
   "execution_count": 389,
   "metadata": {},
   "outputs": [
    {
     "data": {
      "text/plain": [
       "torch.Size([16, 1])"
      ]
     },
     "execution_count": 389,
     "metadata": {},
     "output_type": "execute_result"
    }
   ],
   "source": [
    "out.shape\n",
    "y.shape"
   ]
  },
  {
   "cell_type": "markdown",
   "metadata": {
    "id": "3N_g4DA-vex8"
   },
   "source": [
    "\n",
    "The function below allows to calculate the accuracy of the model on dataset loader. Execute this function to see if you implemented the compute_num_correct_pred function correctly."
   ]
  },
  {
   "cell_type": "code",
   "execution_count": 390,
   "metadata": {
    "id": "FY9V2-NCvv25"
   },
   "outputs": [],
   "source": [
    "def test(loader):\n",
    "  net.eval()\n",
    "\n",
    "  correct = 0\n",
    "  with torch.no_grad():\n",
    "    for data in loader:\n",
    "      dna = data['DNA']\n",
    "      y = data['Class']\n",
    "\n",
    "      out = net(dna)\n",
    "      correct += compute_num_correct_pred(out, y)\n",
    "  return correct / len(loader.dataset)"
   ]
  },
  {
   "cell_type": "code",
   "execution_count": 391,
   "metadata": {},
   "outputs": [
    {
     "data": {
      "text/plain": [
       "array([0.48972603])"
      ]
     },
     "execution_count": 391,
     "metadata": {},
     "output_type": "execute_result"
    }
   ],
   "source": [
    "test(train_loader)"
   ]
  },
  {
   "cell_type": "markdown",
   "metadata": {
    "id": "I0vTKeeQ3wGb"
   },
   "source": [
    "# Ex 12: Training the model\n",
    "\n",
    "The code below allows to train your model on 10 epoches. If all work well, you should see the training loss drop with each epoch.\n",
    "\n",
    "train the model for 2000 epochs"
   ]
  },
  {
   "cell_type": "code",
   "execution_count": 392,
   "metadata": {
    "colab": {
     "base_uri": "https://localhost:8080/"
    },
    "id": "K-vkWpKLixGE",
    "outputId": "7f41715a-8840-4529-cb4c-c6f76d84bf5e"
   },
   "outputs": [
    {
     "name": "stdout",
     "output_type": "stream",
     "text": [
      "Epoch 0 train loss 0.693262664014346  - train accuracy [0.48758562] - test accuracy [0.52568493]\n",
      "Epoch 20 train loss 0.6931161700862728  - train accuracy [0.50085616] - test accuracy [0.5359589]\n",
      "Epoch 40 train loss 0.6929660921227442  - train accuracy [0.50684932] - test accuracy [0.45890411]\n",
      "Epoch 60 train loss 0.6928302996779141  - train accuracy [0.52054795] - test accuracy [0.50342466]\n",
      "Epoch 80 train loss 0.6926943067818472  - train accuracy [0.5239726] - test accuracy [0.51883562]\n",
      "Epoch 100 train loss 0.6925579142080595  - train accuracy [0.53339041] - test accuracy [0.52739726]\n",
      "Epoch 120 train loss 0.692429298815662  - train accuracy [0.54965753] - test accuracy [0.45719178]\n",
      "Epoch 140 train loss 0.6922949323915455  - train accuracy [0.55393836] - test accuracy [0.45547945]\n",
      "Epoch 160 train loss 0.6921441787726259  - train accuracy [0.56506849] - test accuracy [0.48116438]\n",
      "Epoch 180 train loss 0.692015776895497  - train accuracy [0.57106164] - test accuracy [0.47945205]\n",
      "Epoch 200 train loss 0.6918643104703459  - train accuracy [0.57705479] - test accuracy [0.49143836]\n",
      "Epoch 220 train loss 0.6917051721925604  - train accuracy [0.57405822] - test accuracy [0.56164384]\n",
      "Epoch 240 train loss 0.6915534061111815  - train accuracy [0.5864726] - test accuracy [0.49315068]\n",
      "Epoch 260 train loss 0.6913893737205087  - train accuracy [0.58861301] - test accuracy [0.53424658]\n",
      "Epoch 280 train loss 0.6912224737748708  - train accuracy [0.59118151] - test accuracy [0.49657534]\n",
      "Epoch 300 train loss 0.6910346832177411  - train accuracy [0.59417808] - test accuracy [0.44178082]\n",
      "Epoch 320 train loss 0.6908240648981643  - train accuracy [0.60188356] - test accuracy [0.4640411]\n",
      "Epoch 340 train loss 0.6906464401989767  - train accuracy [0.61087329] - test accuracy [0.55650685]\n",
      "Epoch 360 train loss 0.6904367045180438  - train accuracy [0.6130137] - test accuracy [0.48972603]\n",
      "Epoch 380 train loss 0.6902042851872641  - train accuracy [0.61729452] - test accuracy [0.52226027]\n",
      "Epoch 400 train loss 0.6899913802538833  - train accuracy [0.62671233] - test accuracy [0.51369863]\n",
      "Epoch 420 train loss 0.6897166771431492  - train accuracy [0.63356164] - test accuracy [0.55821918]\n",
      "Epoch 440 train loss 0.6894611344762045  - train accuracy [0.63484589] - test accuracy [0.51712329]\n",
      "Epoch 460 train loss 0.6891840202351139  - train accuracy [0.63613014] - test accuracy [0.53082192]\n",
      "Epoch 480 train loss 0.6889151534805559  - train accuracy [0.63912671] - test accuracy [0.5119863]\n",
      "Epoch 500 train loss 0.6885826759142418  - train accuracy [0.63827055] - test accuracy [0.50684932]\n",
      "Epoch 520 train loss 0.688252086917015  - train accuracy [0.64255137] - test accuracy [0.5359589]\n",
      "Epoch 540 train loss 0.6878860045785773  - train accuracy [0.64469178] - test accuracy [0.53767123]\n",
      "Epoch 560 train loss 0.6874985784700473  - train accuracy [0.64640411] - test accuracy [0.54280822]\n",
      "Epoch 580 train loss 0.6870512354047331  - train accuracy [0.64940068] - test accuracy [0.57705479]\n",
      "Epoch 600 train loss 0.6866267041800773  - train accuracy [0.65368151] - test accuracy [0.55650685]\n",
      "Epoch 620 train loss 0.686159564207678  - train accuracy [0.65453767] - test accuracy [0.53938356]\n",
      "Epoch 640 train loss 0.6856203173121361  - train accuracy [0.6489726] - test accuracy [0.46746575]\n",
      "Epoch 660 train loss 0.6851122224167602  - train accuracy [0.65924658] - test accuracy [0.49657534]\n",
      "Epoch 680 train loss 0.6844688584543255  - train accuracy [0.65625] - test accuracy [0.54280822]\n",
      "Epoch 700 train loss 0.6838417530876316  - train accuracy [0.65839041] - test accuracy [0.53767123]\n",
      "Epoch 720 train loss 0.683120752034122  - train accuracy [0.66523973] - test accuracy [0.50171233]\n",
      "Epoch 740 train loss 0.6823308378049772  - train accuracy [0.65496575] - test accuracy [0.47089041]\n",
      "Epoch 760 train loss 0.681404803305456  - train accuracy [0.65453767] - test accuracy [0.45376712]\n",
      "Epoch 780 train loss 0.6805302990625982  - train accuracy [0.66181507] - test accuracy [0.54965753]\n",
      "Epoch 800 train loss 0.679466817476978  - train accuracy [0.66523973] - test accuracy [0.56164384]\n",
      "Epoch 820 train loss 0.6783203629598226  - train accuracy [0.65796233] - test accuracy [0.4760274]\n",
      "Epoch 840 train loss 0.677124999565621  - train accuracy [0.66609589] - test accuracy [0.53938356]\n",
      "Epoch 860 train loss 0.6757842743233459  - train accuracy [0.66481164] - test accuracy [0.53938356]\n",
      "Epoch 880 train loss 0.6743160094300361  - train accuracy [0.66609589] - test accuracy [0.5119863]\n",
      "Epoch 900 train loss 0.6726908675611836  - train accuracy [0.66866438] - test accuracy [0.54109589]\n",
      "Epoch 920 train loss 0.6707911544466671  - train accuracy [0.66952055] - test accuracy [0.55308219]\n",
      "Epoch 940 train loss 0.6687509050107983  - train accuracy [0.67208904] - test accuracy [0.54794521]\n",
      "Epoch 960 train loss 0.6666652450006302  - train accuracy [0.67465753] - test accuracy [0.52910959]\n",
      "Epoch 980 train loss 0.6642223539417738  - train accuracy [0.67722603] - test accuracy [0.55136986]\n",
      "Epoch 1000 train loss 0.6613377148974432  - train accuracy [0.67422945] - test accuracy [0.56506849]\n",
      "Epoch 1020 train loss 0.6585821562433896  - train accuracy [0.67508562] - test accuracy [0.57363014]\n",
      "Epoch 1040 train loss 0.6552851881882916  - train accuracy [0.68236301] - test accuracy [0.51369863]\n",
      "Epoch 1060 train loss 0.6516658124858385  - train accuracy [0.68578767] - test accuracy [0.5119863]\n",
      "Epoch 1080 train loss 0.6477315977011642  - train accuracy [0.68664384] - test accuracy [0.49828767]\n",
      "Epoch 1100 train loss 0.6429953530226669  - train accuracy [0.69306507] - test accuracy [0.51541096]\n",
      "Epoch 1120 train loss 0.6387867551960357  - train accuracy [0.69263699] - test accuracy [0.48116438]\n",
      "Epoch 1140 train loss 0.6337797939777374  - train accuracy [0.6994863] - test accuracy [0.52739726]\n",
      "Epoch 1160 train loss 0.627775006914792  - train accuracy [0.68707192] - test accuracy [0.44691781]\n",
      "Epoch 1180 train loss 0.6223776348649639  - train accuracy [0.70633562] - test accuracy [0.48972603]\n",
      "Epoch 1200 train loss 0.6156146844772443  - train accuracy [0.71660959] - test accuracy [0.52054795]\n",
      "Epoch 1220 train loss 0.6073373213206252  - train accuracy [0.68921233] - test accuracy [0.42636986]\n",
      "Epoch 1240 train loss 0.5999838505705742  - train accuracy [0.71361301] - test accuracy [0.45547945]\n",
      "Epoch 1260 train loss 0.5907252886115688  - train accuracy [0.7234589] - test accuracy [0.4880137]\n",
      "Epoch 1280 train loss 0.5832383157047507  - train accuracy [0.73929795] - test accuracy [0.53424658]\n",
      "Epoch 1300 train loss 0.5726176302318704  - train accuracy [0.73758562] - test accuracy [0.51712329]\n",
      "Epoch 1320 train loss 0.5621420953371753  - train accuracy [0.72731164] - test accuracy [0.5890411]\n",
      "Epoch 1340 train loss 0.5511338031047011  - train accuracy [0.75214041] - test accuracy [0.56506849]\n",
      "Epoch 1360 train loss 0.5403011447354539  - train accuracy [0.76241438] - test accuracy [0.52226027]\n",
      "Epoch 1380 train loss 0.5253774382888454  - train accuracy [0.76669521] - test accuracy [0.46746575]\n",
      "Epoch 1400 train loss 0.5148666562282875  - train accuracy [0.77140411] - test accuracy [0.45376712]\n",
      "Epoch 1420 train loss 0.5002877912292741  - train accuracy [0.77354452] - test accuracy [0.46061644]\n",
      "Epoch 1440 train loss 0.4866975631615887  - train accuracy [0.79880137] - test accuracy [0.53767123]\n",
      "Epoch 1460 train loss 0.47254684281675785  - train accuracy [0.80393836] - test accuracy [0.50684932]\n",
      "Epoch 1480 train loss 0.4565976868345313  - train accuracy [0.80907534] - test accuracy [0.48972603]\n",
      "Epoch 1500 train loss 0.4412815029898735  - train accuracy [0.79666096] - test accuracy [0.46061644]\n",
      "Epoch 1520 train loss 0.42624437757959105  - train accuracy [0.84032534] - test accuracy [0.53082192]\n",
      "Epoch 1540 train loss 0.40957441844352305  - train accuracy [0.84631849] - test accuracy [0.54965753]\n",
      "Epoch 1560 train loss 0.39443809641142413  - train accuracy [0.85188356] - test accuracy [0.5]\n",
      "Epoch 1580 train loss 0.37833140882318966  - train accuracy [0.84631849] - test accuracy [0.47431507]\n",
      "Epoch 1600 train loss 0.36387888536061325  - train accuracy [0.87414384] - test accuracy [0.51883562]\n",
      "Epoch 1620 train loss 0.34519596081482223  - train accuracy [0.88527397] - test accuracy [0.54623288]\n",
      "Epoch 1640 train loss 0.32873096459940687  - train accuracy [0.88527397] - test accuracy [0.49657534]\n",
      "Epoch 1660 train loss 0.31265626286398873  - train accuracy [0.88827055] - test accuracy [0.57020548]\n",
      "Epoch 1680 train loss 0.2983867418888497  - train accuracy [0.90967466] - test accuracy [0.5359589]\n",
      "Epoch 1700 train loss 0.2788234096887994  - train accuracy [0.91866438] - test accuracy [0.5239726]\n",
      "Epoch 1720 train loss 0.2639374086913997  - train accuracy [0.91909247] - test accuracy [0.50171233]\n",
      "Epoch 1740 train loss 0.2469414345511835  - train accuracy [0.92722603] - test accuracy [0.57020548]\n",
      "Epoch 1760 train loss 0.23360733432720784  - train accuracy [0.93535959] - test accuracy [0.56335616]\n",
      "Epoch 1780 train loss 0.2155868162031043  - train accuracy [0.94991438] - test accuracy [0.53082192]\n",
      "Epoch 1800 train loss 0.2031358684578987  - train accuracy [0.95804795] - test accuracy [0.53082192]\n",
      "Epoch 1820 train loss 0.18394216124529708  - train accuracy [0.96018836] - test accuracy [0.51541096]\n",
      "Epoch 1840 train loss 0.17181390615766995  - train accuracy [0.97217466] - test accuracy [0.52739726]\n",
      "Epoch 1860 train loss 0.15582986706740234  - train accuracy [0.96746575] - test accuracy [0.55993151]\n",
      "Epoch 1880 train loss 0.14504655493959173  - train accuracy [0.98458904] - test accuracy [0.51883562]\n",
      "Epoch 1900 train loss 0.13090271668585196  - train accuracy [0.98287671] - test accuracy [0.51883562]\n",
      "Epoch 1920 train loss 0.12014776340698542  - train accuracy [0.99229452] - test accuracy [0.53767123]\n",
      "Epoch 1940 train loss 0.1087326139517843  - train accuracy [0.99657534] - test accuracy [0.53082192]\n",
      "Epoch 1960 train loss 0.0991135392950414  - train accuracy [0.99700342] - test accuracy [0.52568493]\n",
      "Epoch 1980 train loss 0.08892311349715272  - train accuracy [0.99871575] - test accuracy [0.53253425]\n"
     ]
    }
   ],
   "source": [
    "for epoch in range(2000):\n",
    "    loss_epoch = train(net, train_loader, criterion, optimizer, 'cpu')\n",
    "    if epoch % 20 == 0:\n",
    "        test_acc = test(test_loader)\n",
    "        train_acc = test(train_loader)\n",
    "        print(f'Epoch {epoch} train loss {loss_epoch}  - train accuracy {train_acc} - test accuracy {test_acc}')"
   ]
  },
  {
   "cell_type": "markdown",
   "metadata": {
    "id": "WX_FGbp4tV0Z"
   },
   "source": [
    "# Ex13 (optional)\n",
    "\n",
    "\n",
    "\n",
    "1. If we use torch.nn.BCEWithLogitsLoss(), what does we need to change to the definition of the model ?\n",
    "\n",
    "\n",
    "\n",
    "2. The same question for torch.nn.CrossEntropyLoss() loss.  "
   ]
  },
  {
   "cell_type": "markdown",
   "metadata": {
    "id": "0l-GFUSOmOIr"
   },
   "source": [
    "1. Changes to the Model:\n",
    "Remove the torch.sigmoid from the final layer of the forward method.\n",
    "The output of the final layer (self.fc1) should be the raw logits.\n",
    "\n",
    "2. Modify the final fully connected layer (self.fc1) to output as many values as there are classes (two classes, output 2 logits instead of 1).\n",
    "Remove any torch.sigmoid or F.softmax from the forward method."
   ]
  }
 ],
 "metadata": {
  "colab": {
   "provenance": []
  },
  "kernelspec": {
   "display_name": "bio",
   "language": "python",
   "name": "python3"
  },
  "language_info": {
   "codemirror_mode": {
    "name": "ipython",
    "version": 3
   },
   "file_extension": ".py",
   "mimetype": "text/x-python",
   "name": "python",
   "nbconvert_exporter": "python",
   "pygments_lexer": "ipython3",
   "version": "3.11.6"
  }
 },
 "nbformat": 4,
 "nbformat_minor": 4
}
